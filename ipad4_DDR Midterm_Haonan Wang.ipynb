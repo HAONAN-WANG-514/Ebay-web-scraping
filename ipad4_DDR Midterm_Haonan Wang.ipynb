{
 "cells": [
  {
   "cell_type": "markdown",
   "metadata": {},
   "source": [
    "DDR Midterm - Haonan Wang"
   ]
  },
  {
   "cell_type": "code",
   "execution_count": 1,
   "metadata": {},
   "outputs": [],
   "source": [
    "# import packages\n",
    "import requests\n",
    "from bs4 import BeautifulSoup\n",
    "import time\n",
    "import random\n",
    "import re\n",
    "import os\n",
    "import json\n",
    "import pymysql\n",
    "import mysql.connector\n",
    "from mysql.connector import Error\n",
    "from sqlalchemy import create_engine\n",
    "import pandas as pd"
   ]
  },
  {
   "cell_type": "markdown",
   "metadata": {},
   "source": [
    "# Part 1: SHORT, LET GET STARTED"
   ]
  },
  {
   "cell_type": "markdown",
   "metadata": {},
   "source": [
    "Go to http://numbersapi.com and familiarize yourself with the API.\n",
    "\n",
    "a) Write a program that accesses all trivia results for the numbers from 0 (zero) to 99 using batch requests only (One single query for all the numbers). Print the output result to the screen in the format of [3-digit number with leading zeros] - [TRIVIA] (One number per each line)\n",
    "\n",
    "Note: your output for each number may be different. The website randomizes its trivia responses."
   ]
  },
  {
   "cell_type": "code",
   "execution_count": 3,
   "metadata": {},
   "outputs": [],
   "source": [
    "# create headers to help enter the website\n",
    "\n",
    "headers = {'User-Agent':'Mozilla/5.0 (Windows NT 10.0; WOW64) AppleWebKit/537.36 (KHTML, like Gecko) Chrome/79.0.3945.88 Safari/537.36'}"
   ]
  },
  {
   "cell_type": "code",
   "execution_count": 4,
   "metadata": {},
   "outputs": [
    {
     "name": "stdout",
     "output_type": "stream",
     "text": [
      "000 - 0 is the coldest possible temperature old the Kelvin scale.\n",
      "001 - 1 is the number of dimensions of a line.\n",
      "002 - 2 is the first magic number in physics.\n",
      "003 - 3 is the number of witches in William Shakespeare's Macbeth.\n",
      "004 - 4 is the number of strings on a violin, a viola, a cello, double bass, a cuatro and a ukulele, and the number of string pairs on a mandolin.\n",
      "005 - 5 is the holy number of Discordianism, as dictated by the Law of Fives.\n",
      "006 - 6 is the number worn by LeBron James in the NBA.\n",
      "007 - 7 is the number of main stars in the constellations of the Big Dipper and Orion.\n",
      "008 - 8 is the number of legs that arachnids have.\n",
      "009 - 9 is the number of circles of Hell in Dante's Divine Comedy.\n",
      "010 - 10 is the average thickness of the Arctic ice sheet in feet.\n",
      "011 - 11 is the number of pounds one gallon of pure maple syrup weighs.\n",
      "012 - 12 is the number of ounces in a troy pound (used for precious metals).\n",
      "013 - 13 is the number of steps in the gallows.\n",
      "014 - 14 is the earliest age that the emancipation of minors can occur in the U.S.\n",
      "015 - 15 is the age for obtaining a driver's (or learner's) permit in certain jurisdictions, including some where the age for a driver's license is sixteen.\n",
      "016 - 16 is the number of teams that qualified for the finals of the FIFA World Cup from 1934 through 1978 (although for various reasons, only 15 competed in the 1938 and 1950 finals).\n",
      "017 - 17 is the number of syllables in a haiku (5+7+5).\n",
      "018 - 18 is the number of chapters into which James Joyce's epic novel Ulysses is divided.\n",
      "019 - 19 is the number of years in 235 lunations.\n",
      "020 - 20 is the number of baby teeth in the deciduous dentition.\n",
      "021 - 21 is the number of trump cards of the tarot deck if one does not consider The Fool to be a proper trump card.\n",
      "022 - 22 is the typical length in minutes of a half hour sitcom not including commercials.\n",
      "023 - 23 is the number of minutes that all flashbacks take place before the assassination attempt on the president in the film Vantage Point.\n",
      "024 - 24 is the number of accepted runners in the Melbourne Cup.\n",
      "025 - 25 is the (critical) number of Florida electoral votes for the 2000 U.S. presidential election.\n",
      "026 - 26 is the number of Cantons of Switzerland.\n",
      "027 - 27 is the number of bones in the human hand.\n",
      "028 - 28 is the number of a car formerly run in the NASCAR Sprint Cup Series by Yates Racing.\n",
      "029 - 29 is the number of Knuts in one Sickle in the fictional currency in the Harry Potter novels.\n",
      "030 - 30 is the total number of major and minor keys in Western tonal music, including enharmonic equivalents.\n",
      "031 - 31 is the number of days in the months January, March, May, July, August, October and December.\n",
      "032 - 32 is the number of completed, numbered piano sonatas by Ludwig van Beethoven.\n",
      "033 - 33 is the number of workers trapped, and also the number of survivors of the 2010 CopiapÃ³ mining accident.\n",
      "034 - 34 is the lucky number of Victor Pelevin's protagonist Stepan Mikhailov in the novel Numbers.\n",
      "035 - 35 is the basic film gauge in mm most commonly used for both analog photography and motion pictures.\n",
      "036 - 36 is the perfect score on the ACT.\n",
      "037 - 37 is the number of slots in European Roulette (numbered 0 through 36, the 00 is not used in European roulette as it is in American roulette).\n",
      "038 - 38 is the number of surviving plays written by William Shakespeare.\n",
      "039 - 39 is the traditional number of times citizens of Ancient Rome hit their slaves when beating them, referred to as \"Forty save one\".\n",
      "040 - 40 is the number of weeks for an average term of pregnancy, counting from the womanâ€™s last menstrual period.\n",
      "041 - 41 is the number of soldiers in The Expendables (2010 film) tactor Eric Roberts laments to his subordinates about having been killed by star Sylvester Stallone in his escape from their island.\n",
      "042 - 42 is the number of museums in Amsterdam (Netherlands has the highest concentration of museums in the world).\n",
      "043 - 43 is the maximum number of cars participating in a NASCAR race in the Cup Series or Nationwide Series.\n",
      "044 - 44 is the number of candles in a box of Hanukkah candles.\n",
      "045 - 45 is the sapphire wedding anniversary in years of marriage.\n",
      "046 - 46 is the number of human chromosomes.\n",
      "047 - 47 is the total numbers of balloons that a player can collect in Rareware's Nintendo 64 game Diddy Kong Racing.\n",
      "048 - 48 is the number of Ptolemaic constellations.\n",
      "049 - 49 is the number of days and night Siddhartha Gautama spent meditating as a holy man.\n",
      "050 - 50 is the speed limit, in kilometers per hour, of Australian roads with unspecified limits.\n",
      "051 - 51 is the atomic number of antimony.\n",
      "052 - 52 is the number of letters in the English alphabet, if majuscules are distinguished from minuscules.\n",
      "053 - 53 is the total number of national football associations of UEFA.\n",
      "054 - 54 is the score in golf colloquially referred to as a perfect round.\n",
      "055 - 55 is the percentage of movies released that are Rated R.\n",
      "056 - 56 is the number of consecutive games in baseball in which New York Yankees' Joe DiMaggio had a base hit in 1941, still a record.\n",
      "057 - 57 is the number of people at 20th Century Fox Studios died amid rioting and suicide.\n",
      "058 - 58 is the minimum wind speed (mph) needed to issue a Severe Thunderstorm Warning.\n",
      "059 - 59 is the number corresponding to the last minute in a given hour.\n",
      "060 - 60 is the maximum number of marbles (game pieces) in Chinese checkers.\n",
      "061 - 61 is the code for international direct dial phone calls to Australia.\n",
      "062 - 62 is the atomic number of samarium.\n",
      "063 - 63 is the atomic number of europium.\n",
      "064 - 64 is the size in bits of certain data types in some computer programming languages.\n",
      "065 - 65 is the minimum grade required to pass an exam, or class, in many areas.\n",
      "066 - 66 is the total number of books in the Protestant edition of the Bible (Old Testament and New Testament) combined.\n",
      "067 - 67 is the number of counties in Florida.\n",
      "068 - 68 is the ideal temperature (F) for developing black-and-white film.\n",
      "069 - 69 is the number Bill and Ted were thinking of when talking to their future selves.\n",
      "070 - 70 is the number of years of marriage until the platinum wedding anniversary.\n",
      "071 - 71 is the number of different characters that can be used with a standard English Keyboard, excluding uppercase letters.\n",
      "072 - 72 is the number of languages spoken at the Tower of Babylon.\n",
      "073 - 73 is the length of the Arecibo message sent to space in search for extraterrestrial intelligence.\n",
      "074 - 74 is the number of stars obtained by SpongeBob SquarePants in his driving school.\n",
      "075 - 75 is the age limit for Canadian senators.\n",
      "076 - 76 is the atomic number of osmium.\n",
      "077 - 77 is the atomic number of iridium.\n",
      "078 - 78 is the number of lines that make up Metatron's Cube.\n",
      "079 - 79 is the record for cumulative weeks at #1 on the Billboard charts, held by Elvis Presley.\n",
      "080 - 80 is the percentage of American men who say they would marry the same woman if they had it to do all over again.\n",
      "081 - 81 is the number of prayers said in the Rosary in each night.\n",
      "082 - 82 is the number of games in an NBA or NHL regular season.\n",
      "083 - 83 is the atomic number of bismuth.\n",
      "084 - 84 is the code for international direct dial phone calls to Vietnam.\n",
      "085 - 85 is the IQ and nickname of Aaron in Alien 3.\n",
      "086 - 86 is the device number for a lockout relay function in electrical circuit protection schemes.\n",
      "087 - 87 is the number of tools in the Wenger Swiss Army Knife version XXL, listed in the Guinness Book of World Records as the world's most multi-functional penknife.\n",
      "088 - 88 is the number of constellations in the sky as defined by the International Astronomical Union.\n",
      "089 - 89 is the atomic number of actinium.\n",
      "090 - 90 is the latitude of the North Pole and the South Pole.\n",
      "091 - 91 is the code for international direct dial phone calls to India.\n",
      "092 - 92 is the number of letters in the longest place name: Taumatawhakatangihangakoauauotamateaurehaeaturipukakapikimaungahoronukupokaiwhenuakitanatahu.\n",
      "093 - 93 is that approximate distance in millions of miles the Sun is away from the Earth.\n",
      "094 - 94 is the atomic number of plutonium.\n",
      "095 - 95 is the percentage confidence interval that is considered satisfactory for most purposes in statistics.\n",
      "096 - 96 is the rating of Skyrim on metacritic.com.\n",
      "097 - 97 is the number of minutes it takes the Hubble space telescope to complete an orbit around the Earth.\n",
      "098 - 98 is the highest jersey number allowed in the National Hockey League (as 99 was retired by the entire league to honor Wayne Gretzky).\n"
     ]
    },
    {
     "name": "stdout",
     "output_type": "stream",
     "text": [
      "099 - 99 is the number of names of Allah, the names or attributes of God in the Qur'an.\n"
     ]
    }
   ],
   "source": [
    "# loop to get content\n",
    "\n",
    "for i in range(0,100):\n",
    "    n = str(i)\n",
    "    url = 'http://numbersapi.com/' + n\n",
    "    page = requests.get(url, headers = headers)\n",
    "    soup = BeautifulSoup(page.content, 'html.parser')\n",
    "    print(n.zfill(3), '-', soup)"
   ]
  },
  {
   "cell_type": "markdown",
   "metadata": {},
   "source": [
    "# Part 2: LONGER!"
   ]
  },
  {
   "cell_type": "markdown",
   "metadata": {},
   "source": [
    "## Web-scraping: Which sellers advertise/sponsor on eBay"
   ]
  },
  {
   "cell_type": "markdown",
   "metadata": {},
   "source": [
    "### a"
   ]
  },
  {
   "cell_type": "markdown",
   "metadata": {},
   "source": [
    "a) Take the code your group developed for assignment 2 and fix everything that may not have been optimal in your previous solution. Alternatively, but less cool, you may use our solution code as your starting point. (You will use this for the next part. You do not need to include this code in your submission.)\n",
    "\n",
    "How would you modify your search query to only include buy-it-now (non-auction) items? \n",
    "\n",
    "What is the GET request's variable name corresponding to buy-it-now searches? \n",
    "\n",
    "How would you modify your search query to include 100 items per search result page? \n",
    "\n",
    "What is the GET request's variable name corresponding to items per page searches? \n",
    "\n",
    "Include your answers as a comment in your code marking it as Part 2-a. (This section does not involve coding)"
   ]
  },
  {
   "cell_type": "code",
   "execution_count": null,
   "metadata": {},
   "outputs": [],
   "source": [
    "# Add LH_BIN=1 to the url. https://www.ebay.com/sch/i.html?_nkw=samsung+tv&LH_BIN=1\n",
    "# LH_BIN\n",
    "# Add _ipg=100 to the url. https://www.ebay.com/sch/i.html?_nkw=samsung+tv&_ipg=100\n",
    "# _ipg"
   ]
  },
  {
   "cell_type": "markdown",
   "metadata": {},
   "source": [
    "### b"
   ]
  },
  {
   "cell_type": "markdown",
   "metadata": {},
   "source": [
    "b) Modify your previous code to search for buy-it-now listings of <keyword> and limit the number of items to 100 per page. Use this guide to select the right <keyword> assigned to you:\n",
    "\n",
    "If your last name on Canvas starts with A-F use <keyword>: \"canon eos 5d\"\n",
    "\n",
    "If your last name on Canvas starts with G-L use <keyword>: \"playstation 4 slim\"\n",
    "\n",
    "If your last name on Canvas starts with M-R use <keyword>: \"iphone 11 pro\"\n",
    "\n",
    "If your last name on Canvas starts with S-Z use <keyword>: \"ipad 4\"\n",
    "\n",
    "Identify all the sponsored items.\n",
    "\n",
    "For the first 10 pages of 100 items/page, save all the URLs of sponsored items' pages to the file \"sponsored.txt\"  and all the URLs of non-sponsored items' pages to the file \"non-sponsored.txt\" in the same directory as your code. (One URL per line in each file)"
   ]
  },
  {
   "cell_type": "code",
   "execution_count": 5,
   "metadata": {},
   "outputs": [],
   "source": [
    "# create headers to enter the website\n",
    "\n",
    "headers = {'User-Agent':'Mozilla/5.0 (Macintosh; Intel Mac OS X 10_15_2) AppleWebKit/537.36 (KHTML, like Gecko) Chrome/79.0.3945.117 Safari/537.36'}"
   ]
  },
  {
   "cell_type": "code",
   "execution_count": 6,
   "metadata": {},
   "outputs": [],
   "source": [
    "# download and save the first 10 pages of results.(with a random interval between 10 and 20 seconds to mimic human behavior)\n",
    "\n",
    "for i in range(1, 11):\n",
    "    n = str(i)\n",
    "    url = 'https://www.ebay.com/sch/i.html?_nkw=ipad+4&LH_BIN=1&_ipg=100&_pgn='+n.zfill(2)\n",
    "    page = requests.get(url, headers=headers)\n",
    "    search = open('ebay_ipad_4_'+n.zfill(2)+'.htm', 'w', encoding = 'utf-8')\n",
    "    search.write(page.text)\n",
    "    search.close()\n",
    "    time.sleep(random.randint(10,20));"
   ]
  },
  {
   "cell_type": "code",
   "execution_count": 7,
   "metadata": {},
   "outputs": [],
   "source": [
    "# parse the pages and save sponsored and unsponsored items respectively\n",
    "\n",
    "sponsored = open('sponsored.txt', 'w', encoding = 'utf-8')\n",
    "non_sponsored = open('non-sponsored.txt', 'w', encoding = 'utf-8')\n",
    "\n",
    "for i in range(1, 11):\n",
    "    n = str(i)\n",
    "    page_result = open('ebay_ipad_4_'+n.zfill(2)+'.htm', 'r', encoding = \"utf-8\")\n",
    "    text = page_result.read()\n",
    "    soup = BeautifulSoup(text,'html.parser')\n",
    "    products = soup.select(\"#srp-river-results > ul > li.s-item\")\n",
    "    for product in products:\n",
    "        a = product.find(\"a\")\n",
    "        if not a:\n",
    "            continue \n",
    "        text_span = product.find(\"span\").get_text()\n",
    "        if re.search('.*S.*P.*O.*N.*S.*O.*R.*E.*D.*', text_span):\n",
    "            url_simplify_s = re.sub(\"(.*)\\\\?.*\", r\"\\1\", a['href'])\n",
    "            #sponsored.write('Page'+n.zfill(2)+' '+url_simplify_s+'\\n')\n",
    "            sponsored.write(url_simplify_s+'\\n')\n",
    "\n",
    "        else:\n",
    "            url_simplify_ns = re.sub(\"(.*)\\\\?.*\", r\"\\1\", a['href'])\n",
    "            #non_sponsored.write('Page'+n.zfill(2)+' '+url_simplify_ns+'\\n');\n",
    "            non_sponsored.write(url_simplify_ns+'\\n');\n",
    "\n",
    "sponsored.close()\n",
    "non_sponsored.close()"
   ]
  },
  {
   "cell_type": "markdown",
   "metadata": {},
   "source": [
    "### c"
   ]
  },
  {
   "cell_type": "markdown",
   "metadata": {},
   "source": [
    "c) Create two folders in the same directory as your code and name them \"sponsored\" and \"non-sponsored\". Write a program that opens the two files in (b) and downloads each of the pages (URLs) into the folders \"sponsored\" and \"non-sponsored\". Each file should be named as \"<item-id>.htm\" where you replace \"item-id\" with the ID of the item you are saving. E.g., \"264616053293.htm\" for the item with ID \"264616053293\". Note it is always good to put a 2-second pause between queries. Make sure to catch an error and continue if your query runs into problems connecting to eBay (e.g., if your internet is down for 5 seconds, you don't want your entire code to crash)."
   ]
  },
  {
   "cell_type": "code",
   "execution_count": 8,
   "metadata": {},
   "outputs": [],
   "source": [
    "# create two new folders\n",
    "\n",
    "os.mkdir(\"sponsored\")\n",
    "os.mkdir(\"non-sponsored\")"
   ]
  },
  {
   "cell_type": "code",
   "execution_count": 99,
   "metadata": {},
   "outputs": [],
   "source": [
    "# download all urls for sponsored items and save them in 'sponsored' folder\n",
    "\n",
    "sponsored = open('sponsored.txt', 'r', encoding = 'utf-8')\n",
    "spon_lines = sponsored.readlines()\n",
    "os.chdir('C:/Users/whn97/Desktop/422_Data Design & Representation_BoehnkeJorn/Midterm/sponsored')\n",
    "for spon_line in spon_lines:\n",
    "    path = spon_line.split('\\n')[0]\n",
    "    itemid = path.split('/')[5]\n",
    "    page = requests.get(path, headers=headers)\n",
    "    search = open(itemid+'.htm', 'w', encoding = 'utf-8')\n",
    "    search.write(page.text)\n",
    "    search.close()\n",
    "    time.sleep(2);"
   ]
  },
  {
   "cell_type": "code",
   "execution_count": 3,
   "metadata": {},
   "outputs": [],
   "source": [
    "# save id for all sponsored items\n",
    "\n",
    "id_spon=[]\n",
    "for spon_line in spon_lines:\n",
    "    path = spon_line.split('\\n')[0]\n",
    "    itemid = path.split('/')[5]\n",
    "    id_spon.append(itemid)"
   ]
  },
  {
   "cell_type": "code",
   "execution_count": 4,
   "metadata": {},
   "outputs": [
    {
     "name": "stdout",
     "output_type": "stream",
     "text": [
      "72\n"
     ]
    }
   ],
   "source": [
    "# check the number of id\n",
    "\n",
    "print(len(id_spon))"
   ]
  },
  {
   "cell_type": "code",
   "execution_count": 9,
   "metadata": {},
   "outputs": [],
   "source": [
    "# go back to the parent path\n",
    "\n",
    "os.chdir('C:/Users/whn97/Desktop/422_Data Design & Representation_BoehnkeJorn/Midterm')"
   ]
  },
  {
   "cell_type": "code",
   "execution_count": 12,
   "metadata": {},
   "outputs": [],
   "source": [
    "# download all urls for non-sponsored items and save them in 'non-sponsored' folder\n",
    "\n",
    "non_sponsored = open('non-sponsored.txt', 'r', encoding = 'utf-8')\n",
    "non_lines = non_sponsored.readlines()\n",
    "id_non=[]\n",
    "os.chdir('C:/Users/whn97/Desktop/422_Data Design & Representation_BoehnkeJorn/Midterm/non-sponsored')\n",
    "for non_line in non_lines:\n",
    "    path = non_line.split('\\n')[0]\n",
    "    itemid = path.split('/')[5]\n",
    "    id_non.append(itemid)\n",
    "    page = requests.get(path, headers=headers)\n",
    "    search = open(itemid+'.htm', 'w', encoding = 'utf-8')\n",
    "    search.write(page.text)\n",
    "    search.close()\n",
    "    time.sleep(2);"
   ]
  },
  {
   "cell_type": "code",
   "execution_count": 6,
   "metadata": {},
   "outputs": [],
   "source": [
    "# save id for all non-sponsored items\n",
    "\n",
    "id_non=[]\n",
    "for non_line in non_lines:\n",
    "    path = non_line.split('\\n')[0]\n",
    "    itemid = path.split('/')[5]\n",
    "    id_non.append(itemid)"
   ]
  },
  {
   "cell_type": "code",
   "execution_count": 7,
   "metadata": {},
   "outputs": [
    {
     "name": "stdout",
     "output_type": "stream",
     "text": [
      "1034\n"
     ]
    }
   ],
   "source": [
    "# check the number of id\n",
    "\n",
    "print(len(id_non))"
   ]
  },
  {
   "cell_type": "code",
   "execution_count": 13,
   "metadata": {},
   "outputs": [],
   "source": [
    "# go back to the parent path\n",
    "\n",
    "os.chdir('C:/Users/whn97/Desktop/422_Data Design & Representation_BoehnkeJorn/Midterm')"
   ]
  },
  {
   "cell_type": "markdown",
   "metadata": {},
   "source": [
    "### d"
   ]
  },
  {
   "cell_type": "markdown",
   "metadata": {},
   "source": [
    "d) Write a separate piece of code that loops through the pages you downloaded in (c) and opens and parses them into a Python or Java xxxxsoup-object. Identify and select:\n",
    "\n",
    "seller name, seller score, item price, # items sold, best offer available, title, returns allowed, shipping price, condition (e.g., used, new, like new, seller refurbished, ...).\n",
    "\n",
    "In your code, highlight the selector command you choose to obtain each element using comments."
   ]
  },
  {
   "cell_type": "code",
   "execution_count": 8,
   "metadata": {},
   "outputs": [],
   "source": [
    "# go to the 'sponsored' folder\n",
    "\n",
    "os.chdir('C:/Users/whn97/Desktop/422_Data Design & Representation_BoehnkeJorn/Midterm/sponsored')"
   ]
  },
  {
   "cell_type": "code",
   "execution_count": 9,
   "metadata": {},
   "outputs": [],
   "source": [
    "# create lists to store information\n",
    "\n",
    "seller_name_spon=[]\n",
    "seller_score_spon=[]\n",
    "item_price_spon=[]\n",
    "item_sold_spon=[]\n",
    "best_offer_available_spon=[]\n",
    "title_spon=[]\n",
    "returns_allowed_spon=[]\n",
    "shipping_price_spon=[]\n",
    "condition_spon=[]\n",
    "shipping_computed_spon=[]\n",
    "\n",
    "sponsored_or_not=[]"
   ]
  },
  {
   "cell_type": "code",
   "execution_count": 10,
   "metadata": {},
   "outputs": [],
   "source": [
    "# get required information about sponsored items\n",
    "\n",
    "n = len(id_spon)\n",
    "for i in range(0,n):\n",
    "    page = open(id_spon[i]+'.htm', 'r', encoding = 'utf-8')\n",
    "    text = page.read()\n",
    "    soup = BeautifulSoup(text,'html.parser')\n",
    "    \n",
    "    seller = soup.find(id='RightSummaryPanel')\n",
    "    \n",
    "    # seller name\n",
    "    seller_name = seller.find('span', class_='mbg-nw')\n",
    "    seller_name_spon.append(seller_name.text)\n",
    "    \n",
    "    # seller score\n",
    "    seller_score = seller.find('span', class_='mbg-l')\n",
    "    score = seller_score.find('a')\n",
    "    seller_score_spon.append(score.text)\n",
    "    \n",
    "    item = soup.find(id='LeftSummaryPanel')\n",
    "    \n",
    "    # item price\n",
    "    if soup.find(id='prcIsum'):\n",
    "        item_price = soup.find(id='prcIsum')\n",
    "        item_price_spon.append(item_price.text)\n",
    "    elif soup.find(id='mm-saleDscPrc'):\n",
    "        item_price = soup.find(id='mm-saleDscPrc')\n",
    "        item_price_spon.append(item_price.text)\n",
    "    else:\n",
    "        item_price_spon.append('null')\n",
    "    \n",
    "    # item sold\n",
    "    if item.find('a', class_='vi-txt-underline'):\n",
    "        item_sold = item.find('a', class_='vi-txt-underline')\n",
    "        item_sold_spon.append(item_sold.text)\n",
    "    else:\n",
    "        item_sold_spon.append('null')\n",
    "    \n",
    "    # best offer\n",
    "    if item.find('div', class_='vi-bbox-dspn u-flL lable boLable'):\n",
    "        best_offer_available_spon.append('true')\n",
    "    else:\n",
    "        best_offer_available_spon.append('false')\n",
    "        \n",
    "    # item title\n",
    "    title = item.find(id='itemTitle')\n",
    "    title_spon.append(title.text)\n",
    "    \n",
    "    # returns allowed\n",
    "    if soup.find(id='vi-ret-accrd-txt'):\n",
    "        returns = soup.find(id='vi-ret-accrd-txt')\n",
    "        returns_allowed_spon.append(returns.text)\n",
    "    else:\n",
    "        returns_allowed_spon.append('null')\n",
    "        \n",
    "    # shipping price\n",
    "    shipping = soup.find(id='shSummary')\n",
    "    if shipping.find(id='fshippingCost'):\n",
    "        cost = shipping.find(id='fshippingCost')\n",
    "        price = cost.find('span')\n",
    "        shipping_price_spon.append(price.text)\n",
    "        shipping_computed_spon.append('true')\n",
    "    elif shipping.find('strong'):                  # free n \n",
    "        price = shipping.find('strong')\n",
    "        shipping_price_spon.append(price.text)\n",
    "        shipping_computed_spon.append('true')\n",
    "    elif shipping.find(id='e3'):                   # calculate\n",
    "        price = shipping.find(id='e3')\n",
    "        shipping_price_spon.append(price.text)\n",
    "        shipping_computed_spon.append('false')\n",
    "    else:\n",
    "        price = 'null'\n",
    "        shipping_price_spon.append(price)\n",
    "        shipping_computed_spon.append('false')\n",
    "    \n",
    "    # condition\n",
    "    condition = item.find(id='vi-itm-cond')\n",
    "    condition_spon.append(condition.text)\n",
    "    \n",
    "    # sponsored or not\n",
    "    sponsored_or_not.append('true');\n",
    "    "
   ]
  },
  {
   "cell_type": "code",
   "execution_count": 220,
   "metadata": {},
   "outputs": [],
   "source": [
    "#print(seller_name_spon)\n",
    "#print(seller_score_spon)\n",
    "#print(item_price_spon)\n",
    "#print(item_sold_spon)\n",
    "#print(best_offer_available_spon)\n",
    "#print(title_spon)\n",
    "#print(returns_allowed_spon)\n",
    "#print(shipping_price_spon)\n",
    "#print(condition_spon)\n",
    "#print(shipping_computed_spon)\n",
    "#print(sponsored_or_not)\n",
    "#id_spon[1]"
   ]
  },
  {
   "cell_type": "code",
   "execution_count": 11,
   "metadata": {},
   "outputs": [],
   "source": [
    "# go to the 'non-sponsored' folder\n",
    "\n",
    "os.chdir('C:/Users/whn97/Desktop/422_Data Design & Representation_BoehnkeJorn/Midterm/non-sponsored')"
   ]
  },
  {
   "cell_type": "code",
   "execution_count": 12,
   "metadata": {},
   "outputs": [],
   "source": [
    "# create lists to store information\n",
    "\n",
    "seller_name_non=[]\n",
    "seller_score_non=[]\n",
    "item_price_non=[]\n",
    "item_sold_non=[]\n",
    "best_offer_available_non=[]\n",
    "title_non=[]\n",
    "returns_allowed_non=[]\n",
    "shipping_price_non=[]\n",
    "condition_non=[]\n",
    "shipping_computed_non=[]"
   ]
  },
  {
   "cell_type": "code",
   "execution_count": 13,
   "metadata": {},
   "outputs": [],
   "source": [
    "# get required information about non-sponsored items\n",
    "\n",
    "ns = len(id_non)\n",
    "for i in range(0,ns):\n",
    "    page = open(id_non[i]+'.htm', 'r', encoding = 'utf-8')\n",
    "    text = page.read()\n",
    "    soup = BeautifulSoup(text,'html.parser')\n",
    "    \n",
    "    seller = soup.find(id='RightSummaryPanel')\n",
    "    \n",
    "    # seller name\n",
    "    seller_name = seller.find('span', class_='mbg-nw')\n",
    "    seller_name_non.append(seller_name.text)\n",
    "    \n",
    "    # seller score\n",
    "    seller_score = seller.find('span', class_='mbg-l')\n",
    "    score = seller_score.find('a')\n",
    "    seller_score_non.append(score.text)\n",
    "    \n",
    "    item = soup.find(id='LeftSummaryPanel')\n",
    "    \n",
    "    # item price\n",
    "    if soup.find(id='prcIsum'):\n",
    "        item_price = soup.find(id='prcIsum')\n",
    "        item_price_non.append(item_price.text)\n",
    "    elif soup.find(id='mm-saleDscPrc'):\n",
    "        item_price = soup.find(id='mm-saleDscPrc')\n",
    "        item_price_non.append(item_price.text)\n",
    "    else:\n",
    "        item_price_non.append('null')\n",
    "    \n",
    "    # item sold\n",
    "    if item.find('a', class_='vi-txt-underline'):\n",
    "        item_sold = item.find('a', class_='vi-txt-underline')\n",
    "        item_sold_non.append(item_sold.text)\n",
    "    else:\n",
    "        item_sold_non.append('null')\n",
    "    \n",
    "    # best offer\n",
    "    if item.find('div', class_='vi-bbox-dspn u-flL lable boLable'):\n",
    "        best_offer_available_non.append('true')\n",
    "    else:\n",
    "        best_offer_available_non.append('false')\n",
    "        \n",
    "    # item title\n",
    "    title = item.find(id='itemTitle')\n",
    "    title_non.append(title.text)\n",
    "    \n",
    "    # returns allowed\n",
    "    if soup.find(id='vi-ret-accrd-txt'):\n",
    "        returns = soup.find(id='vi-ret-accrd-txt')\n",
    "        returns_allowed_non.append(returns.text)\n",
    "    else:\n",
    "        returns_allowed_non.append('null')\n",
    "        \n",
    "    # shipping price\n",
    "    shipping = soup.find(id='shSummary')\n",
    "    if shipping.find(id='fshippingCost'):\n",
    "        cost = shipping.find(id='fshippingCost')\n",
    "        price = cost.find('span')\n",
    "        shipping_price_non.append(price.text)\n",
    "        shipping_computed_non.append('true')\n",
    "    elif shipping.find('strong'):                  # free n \n",
    "        price = shipping.find('strong')\n",
    "        shipping_price_non.append(price.text)\n",
    "        shipping_computed_non.append('true')\n",
    "    elif shipping.find(id='e3'):                   # calculate\n",
    "        price = shipping.find(id='e3')\n",
    "        shipping_price_non.append(price.text)\n",
    "        shipping_computed_non.append('false')\n",
    "    else:\n",
    "        price = 'null'\n",
    "        shipping_price_non.append(price)\n",
    "        shipping_computed_non.append('false')\n",
    "    \n",
    "    # condition\n",
    "    condition = item.find(id='vi-itm-cond')\n",
    "    condition_non.append(condition.text)\n",
    "    \n",
    "    # sponsored or not\n",
    "    sponsored_or_not.append('false');\n",
    "    "
   ]
  },
  {
   "cell_type": "code",
   "execution_count": 219,
   "metadata": {},
   "outputs": [],
   "source": [
    "#print(seller_name_non)\n",
    "#print(seller_score_non)\n",
    "#print(item_price_non)\n",
    "#print(item_sold_non)\n",
    "#print(best_offer_available_non)\n",
    "#print(title_non)\n",
    "#print(returns_allowed_non)\n",
    "#print(shipping_price_non)\n",
    "#print(condition_non)\n",
    "#print(shipping_computed_non)\n",
    "#print(sponsored_or_not)\n",
    "#id_non[74]"
   ]
  },
  {
   "cell_type": "code",
   "execution_count": 14,
   "metadata": {},
   "outputs": [],
   "source": [
    "# combine results of sponsored and non-sponsored items\n",
    "\n",
    "id_spon_copy = id_spon.copy()\n",
    "id_non_copy = id_non.copy()\n",
    "item_id = id_spon_copy + id_non_copy\n",
    "seller_name = seller_name_spon + seller_name_non\n",
    "seller_score = seller_score_spon + seller_score_non\n",
    "item_price = item_price_spon + item_price_non\n",
    "item_sold = item_sold_spon + item_sold_non\n",
    "best_offer_available = best_offer_available_spon + best_offer_available_non\n",
    "title = title_spon + title_non\n",
    "returns_allowed = returns_allowed_spon + returns_allowed_non\n",
    "shipping_price = shipping_price_spon + shipping_price_non\n",
    "condition = condition_spon + condition_non\n",
    "shipping_computed = shipping_computed_spon + shipping_computed_non"
   ]
  },
  {
   "cell_type": "code",
   "execution_count": 15,
   "metadata": {},
   "outputs": [
    {
     "name": "stdout",
     "output_type": "stream",
     "text": [
      "1106\n",
      "1106\n",
      "1106\n",
      "1106\n",
      "1106\n",
      "1106\n",
      "1106\n",
      "1106\n",
      "1106\n",
      "1106\n",
      "1106\n",
      "1106\n"
     ]
    }
   ],
   "source": [
    "# check the number of lines of information about all items\n",
    "\n",
    "print(len(item_id))\n",
    "print(len(seller_name))\n",
    "print(len(seller_score))\n",
    "print(len(item_price))\n",
    "print(len(item_sold))\n",
    "print(len(best_offer_available))\n",
    "print(len(title))\n",
    "print(len(returns_allowed))\n",
    "print(len(shipping_price))\n",
    "print(len(condition))\n",
    "print(len(shipping_computed))\n",
    "print(len(sponsored_or_not))"
   ]
  },
  {
   "cell_type": "markdown",
   "metadata": {},
   "source": [
    "### e"
   ]
  },
  {
   "cell_type": "markdown",
   "metadata": {},
   "source": [
    "e) Use your code script to connect to SQL (either MySQL, MariaDB, or SQLite. Do NOT use SQL GUI or command terminal). Create a database and name it \"eBay\". Save the information of items in (d)  into a single table named \"eBay_items\" (You are allowed to use only one table). This table should contain both sponsored and non-sponsored information and have a column that specifies which item is sponsored/non-sponsored.  If an item misses ANY of the information in (d), you should insert that missing value as NULL into the table. Convert any price (item price and shipping price) into a \"dollar-cent\" format (e.g., convert $12.34 into 1234 and $12 into 1200. Make sure the two least significant digits are cents. If an item does not include cents in the price, insert zeros.) and insert the price as INT into the table."
   ]
  },
  {
   "cell_type": "code",
   "execution_count": 16,
   "metadata": {},
   "outputs": [
    {
     "name": "stdout",
     "output_type": "stream",
     "text": [
      "Connected to MySQL Server version  8.0.17\n"
     ]
    }
   ],
   "source": [
    "# connect to mysql\n",
    "\n",
    "connection = pymysql.connect(host='localhost', user='root')\n",
    "mydb = connection.get_server_info()\n",
    "print(\"Connected to MySQL Server version \", mydb)"
   ]
  },
  {
   "cell_type": "code",
   "execution_count": 17,
   "metadata": {},
   "outputs": [
    {
     "data": {
      "text/plain": [
       "0"
      ]
     },
     "execution_count": 17,
     "metadata": {},
     "output_type": "execute_result"
    }
   ],
   "source": [
    "# create 'eBay' database\n",
    "\n",
    "mycursor = connection.cursor()\n",
    "mycursor.execute(\"CREATE DATABASE if not exists eBay\")\n",
    "sql_db_select = \"use eBay;\"\n",
    "mycursor.execute(sql_db_select)\n",
    "\n",
    "# create 'eBay_items' table\n",
    "\n",
    "create_table = \"CREATE TABLE eBay_items (item_id VARCHAR(100), seller_name VARCHAR(255), seller_score INT, item_price INT, currency VARCHAR(100), item_sold INT, best_offer_available BOOLEAN, title VARCHAR(255), returns_allowed BOOLEAN, shipping_price INT, item_condition VARCHAR(255), shipping_computed BOOLEAN, sponsored_or_not BOOLEAN)\"\n",
    "mycursor.execute(create_table)"
   ]
  },
  {
   "cell_type": "markdown",
   "metadata": {},
   "source": [
    "##### check the data type and form of each list"
   ]
  },
  {
   "cell_type": "code",
   "execution_count": 18,
   "metadata": {},
   "outputs": [
    {
     "name": "stdout",
     "output_type": "stream",
     "text": [
      "1106\n"
     ]
    }
   ],
   "source": [
    "# split item price into item_price_amount and currency\n",
    "\n",
    "price_amount=[]\n",
    "currency=[]\n",
    "item_price_amount=[]\n",
    "len_price = len(item_price)\n",
    "print(len_price)\n",
    "\n",
    "for i in range(0, len_price):\n",
    "    price_amount.append(item_price[i].split('$')[1])\n",
    "    currency.append(item_price[i].split('$')[0]) \n",
    "\n",
    "for i in range(0, len_price):\n",
    "    price = price_amount[i].split('/')[0]\n",
    "    amount = price.replace(',', '')\n",
    "    item_price_amount.append(float(amount)*100)"
   ]
  },
  {
   "cell_type": "code",
   "execution_count": 19,
   "metadata": {},
   "outputs": [],
   "source": [
    "# seller score\n",
    "\n",
    "len_score = len(seller_score)\n",
    "for i in range(0, len_score):\n",
    "    score = seller_score[i].replace(',', '')\n",
    "    seller_score[i] = int(score)"
   ]
  },
  {
   "cell_type": "code",
   "execution_count": 20,
   "metadata": {},
   "outputs": [],
   "source": [
    "# item sold amount\n",
    "\n",
    "item_sold_amount = []\n",
    "len_sold = len(item_sold)\n",
    "for i in range(0, len_sold):\n",
    "    item_sold_amount.append(item_sold[i].split(' ')[0])\n",
    "for i in range(0, len_sold):\n",
    "    if re.search('null', item_sold_amount[i]):\n",
    "        item_sold_amount[i] = None\n",
    "    else:\n",
    "        sold = item_sold_amount[i].replace(',', '')\n",
    "        item_sold_amount[i] = int(sold)"
   ]
  },
  {
   "cell_type": "code",
   "execution_count": 21,
   "metadata": {},
   "outputs": [],
   "source": [
    "# ship price amount\n",
    "\n",
    "len_ship = len(shipping_price)\n",
    "shipping_price_amount = []\n",
    "ship_price_amount = []\n",
    "for i in range(0, len_ship):\n",
    "    if re.search(\".*FREE.*\", shipping_price[i]):\n",
    "        shipping_price_amount.append('0')\n",
    "    elif re.search(\"Calculate\", shipping_price[i]):\n",
    "        shipping_price_amount.append('null')\n",
    "    elif re.search(\"null\", shipping_price[i]):\n",
    "        shipping_price_amount.append('null')\n",
    "    else:\n",
    "        amount = shipping_price[i].split('$')[1]\n",
    "        shipping_price_amount.append(amount)\n",
    "        \n",
    "for i in range(0, len_ship):\n",
    "    if re.search(\"null\", shipping_price_amount[i]):\n",
    "        ship_price_amount.append(None)\n",
    "    else:\n",
    "        ship_price_amount.append(float(shipping_price_amount[i])*100)"
   ]
  },
  {
   "cell_type": "code",
   "execution_count": 22,
   "metadata": {},
   "outputs": [],
   "source": [
    "# return_allowed\n",
    "\n",
    "return_allowed = []\n",
    "len_re = len(returns_allowed)\n",
    "for i in range(0, len_re):\n",
    "    if re.search(\".*not accept.*\", returns_allowed[i]):\n",
    "        return_allowed.append('false')\n",
    "    else:\n",
    "        return_allowed.append('true')"
   ]
  },
  {
   "cell_type": "code",
   "execution_count": 23,
   "metadata": {},
   "outputs": [],
   "source": [
    "# item_title\n",
    "\n",
    "len_t = len(title)\n",
    "item_title=[]\n",
    "for i in range(0, len_t):\n",
    "    item = title[i].replace('Details about ', '')\n",
    "    item_title.append(item)"
   ]
  },
  {
   "cell_type": "markdown",
   "metadata": {},
   "source": [
    "##### insert table into mysql database"
   ]
  },
  {
   "cell_type": "code",
   "execution_count": 24,
   "metadata": {},
   "outputs": [],
   "source": [
    "#Create engine to establish connection to mysql \n",
    "\n",
    "engine = create_engine(\"mysql+pymysql://{user}@localhost/{db}\"\n",
    "                       .format(user=\"root\",\n",
    "                               db=\"eBay\"))"
   ]
  },
  {
   "cell_type": "code",
   "execution_count": 25,
   "metadata": {},
   "outputs": [],
   "source": [
    "# create a dataframe to gather all information\n",
    "\n",
    "ipad4 = pd.DataFrame({'item_id': item_id, 'seller_name': seller_name, \n",
    "                      'seller_score': seller_score, 'item_price': item_price_amount, \n",
    "                      'currency': currency, 'item_sold': item_sold_amount, \n",
    "                      'best_offer_available': best_offer_available, 'title': item_title, \n",
    "                      'returns_allowed': return_allowed, 'shipping_price': ship_price_amount, \n",
    "                      'item_condition': condition, 'shipping_computed': shipping_computed, \n",
    "                      'sponsored_or_not': sponsored_or_not})\n"
   ]
  },
  {
   "cell_type": "code",
   "execution_count": 26,
   "metadata": {},
   "outputs": [
    {
     "data": {
      "text/html": [
       "<div>\n",
       "<style scoped>\n",
       "    .dataframe tbody tr th:only-of-type {\n",
       "        vertical-align: middle;\n",
       "    }\n",
       "\n",
       "    .dataframe tbody tr th {\n",
       "        vertical-align: top;\n",
       "    }\n",
       "\n",
       "    .dataframe thead th {\n",
       "        text-align: right;\n",
       "    }\n",
       "</style>\n",
       "<table border=\"1\" class=\"dataframe\">\n",
       "  <thead>\n",
       "    <tr style=\"text-align: right;\">\n",
       "      <th></th>\n",
       "      <th>item_id</th>\n",
       "      <th>seller_name</th>\n",
       "      <th>seller_score</th>\n",
       "      <th>item_price</th>\n",
       "      <th>currency</th>\n",
       "      <th>item_sold</th>\n",
       "      <th>best_offer_available</th>\n",
       "      <th>title</th>\n",
       "      <th>returns_allowed</th>\n",
       "      <th>shipping_price</th>\n",
       "      <th>item_condition</th>\n",
       "      <th>shipping_computed</th>\n",
       "      <th>sponsored_or_not</th>\n",
       "    </tr>\n",
       "  </thead>\n",
       "  <tbody>\n",
       "    <tr>\n",
       "      <th>0</th>\n",
       "      <td>293383390892</td>\n",
       "      <td>hawk_line</td>\n",
       "      <td>11373</td>\n",
       "      <td>10900.0</td>\n",
       "      <td>US</td>\n",
       "      <td>4.0</td>\n",
       "      <td>false</td>\n",
       "      <td>Apple iPad 4 - 4th Generation 9.7\" with Reti...</td>\n",
       "      <td>true</td>\n",
       "      <td>0.0</td>\n",
       "      <td>Manufacturer refurbished</td>\n",
       "      <td>true</td>\n",
       "      <td>true</td>\n",
       "    </tr>\n",
       "    <tr>\n",
       "      <th>1</th>\n",
       "      <td>293452172205</td>\n",
       "      <td>hawk_line</td>\n",
       "      <td>11373</td>\n",
       "      <td>12000.0</td>\n",
       "      <td>US</td>\n",
       "      <td>NaN</td>\n",
       "      <td>false</td>\n",
       "      <td>Apple iPad 4 - 4th Generation 9.7\" with Reti...</td>\n",
       "      <td>true</td>\n",
       "      <td>0.0</td>\n",
       "      <td>Manufacturer refurbished</td>\n",
       "      <td>true</td>\n",
       "      <td>true</td>\n",
       "    </tr>\n",
       "    <tr>\n",
       "      <th>2</th>\n",
       "      <td>172497427491</td>\n",
       "      <td>eazytrade84</td>\n",
       "      <td>84729</td>\n",
       "      <td>12985.0</td>\n",
       "      <td>US</td>\n",
       "      <td>518.0</td>\n",
       "      <td>false</td>\n",
       "      <td>Apple iPad mini 2 16GB 32GB 64GB, WiFi + 4G ...</td>\n",
       "      <td>true</td>\n",
       "      <td>0.0</td>\n",
       "      <td>Manufacturer refurbished</td>\n",
       "      <td>true</td>\n",
       "      <td>true</td>\n",
       "    </tr>\n",
       "    <tr>\n",
       "      <th>3</th>\n",
       "      <td>202498264738</td>\n",
       "      <td>eazytrade84</td>\n",
       "      <td>84729</td>\n",
       "      <td>19985.0</td>\n",
       "      <td>US</td>\n",
       "      <td>797.0</td>\n",
       "      <td>false</td>\n",
       "      <td>Apple iPad Mini 4 WiFi + Cellular Unlocked I...</td>\n",
       "      <td>true</td>\n",
       "      <td>0.0</td>\n",
       "      <td>Seller refurbished</td>\n",
       "      <td>true</td>\n",
       "      <td>true</td>\n",
       "    </tr>\n",
       "    <tr>\n",
       "      <th>4</th>\n",
       "      <td>182386213481</td>\n",
       "      <td>eazytrade84</td>\n",
       "      <td>84729</td>\n",
       "      <td>11985.0</td>\n",
       "      <td>US</td>\n",
       "      <td>131.0</td>\n",
       "      <td>false</td>\n",
       "      <td>Apple iPad 4th Gen Retina Display 32GB, Wi-F...</td>\n",
       "      <td>true</td>\n",
       "      <td>0.0</td>\n",
       "      <td>Manufacturer refurbished</td>\n",
       "      <td>true</td>\n",
       "      <td>true</td>\n",
       "    </tr>\n",
       "  </tbody>\n",
       "</table>\n",
       "</div>"
      ],
      "text/plain": [
       "        item_id  seller_name  seller_score  item_price currency  item_sold  \\\n",
       "0  293383390892    hawk_line         11373     10900.0      US         4.0   \n",
       "1  293452172205    hawk_line         11373     12000.0      US         NaN   \n",
       "2  172497427491  eazytrade84         84729     12985.0      US       518.0   \n",
       "3  202498264738  eazytrade84         84729     19985.0      US       797.0   \n",
       "4  182386213481  eazytrade84         84729     11985.0      US       131.0   \n",
       "\n",
       "  best_offer_available                                              title  \\\n",
       "0                false    Apple iPad 4 - 4th Generation 9.7\" with Reti...   \n",
       "1                false    Apple iPad 4 - 4th Generation 9.7\" with Reti...   \n",
       "2                false    Apple iPad mini 2 16GB 32GB 64GB, WiFi + 4G ...   \n",
       "3                false    Apple iPad Mini 4 WiFi + Cellular Unlocked I...   \n",
       "4                false    Apple iPad 4th Gen Retina Display 32GB, Wi-F...   \n",
       "\n",
       "  returns_allowed  shipping_price            item_condition shipping_computed  \\\n",
       "0            true             0.0  Manufacturer refurbished              true   \n",
       "1            true             0.0  Manufacturer refurbished              true   \n",
       "2            true             0.0  Manufacturer refurbished              true   \n",
       "3            true             0.0        Seller refurbished              true   \n",
       "4            true             0.0  Manufacturer refurbished              true   \n",
       "\n",
       "  sponsored_or_not  \n",
       "0             true  \n",
       "1             true  \n",
       "2             true  \n",
       "3             true  \n",
       "4             true  "
      ]
     },
     "execution_count": 26,
     "metadata": {},
     "output_type": "execute_result"
    }
   ],
   "source": [
    "ipad4.head()"
   ]
  },
  {
   "cell_type": "code",
   "execution_count": 27,
   "metadata": {},
   "outputs": [],
   "source": [
    "# insert table into mysql\n",
    "\n",
    "ipad4.to_sql(name = 'ebay_items', con = engine, if_exists = 'replace', index = False)"
   ]
  },
  {
   "cell_type": "code",
   "execution_count": 28,
   "metadata": {},
   "outputs": [
    {
     "name": "stdout",
     "output_type": "stream",
     "text": [
      "           item_id                seller_name  seller_score  item_price  \\\n",
      "0     293383390892                  hawk_line         11373     10900.0   \n",
      "1     293452172205                  hawk_line         11373     12000.0   \n",
      "2     172497427491                eazytrade84         84729     12985.0   \n",
      "3     202498264738                eazytrade84         84729     19985.0   \n",
      "4     182386213481                eazytrade84         84729     11985.0   \n",
      "...            ...                        ...           ...         ...   \n",
      "1101  183785311220    connectedsolutionsgroup          1811     18499.0   \n",
      "1102  163459339261                orangecolby            55     36500.0   \n",
      "1103  333378976277                trd_digital          3784     42900.0   \n",
      "1104  153801170787           amazing-wireless        101991      9999.0   \n",
      "1105  262783810753  certifiedrefurbishedstore         29575     13995.0   \n",
      "\n",
      "     currency  item_sold best_offer_available  \\\n",
      "0         US         4.0                false   \n",
      "1         US         NaN                false   \n",
      "2         US       518.0                false   \n",
      "3         US       797.0                false   \n",
      "4         US       131.0                false   \n",
      "...       ...        ...                  ...   \n",
      "1101      US         NaN                false   \n",
      "1102      US         NaN                false   \n",
      "1103      US         5.0                false   \n",
      "1104      US         NaN                false   \n",
      "1105      US         NaN                false   \n",
      "\n",
      "                                                  title returns_allowed  \\\n",
      "0       Apple iPad 4 - 4th Generation 9.7\" with Reti...            true   \n",
      "1       Apple iPad 4 - 4th Generation 9.7\" with Reti...            true   \n",
      "2       Apple iPad mini 2 16GB 32GB 64GB, WiFi + 4G ...            true   \n",
      "3       Apple iPad Mini 4 WiFi + Cellular Unlocked I...            true   \n",
      "4       Apple iPad 4th Gen Retina Display 32GB, Wi-F...            true   \n",
      "...                                                 ...             ...   \n",
      "1101    B-Stock - Unlocked Apple iPad Air 2 16GB, Wi...            true   \n",
      "1102    Apple iPad mini 4 32GB, Wi-Fi, 7.9in - Gold ...           false   \n",
      "1103    Apple iPad Pro 10.5\" 64GB WiFi + 4G LTE - MQ...            true   \n",
      "1104    Apple iPad mini 1st Gen 16GB Wi-Fi Cellular ...            true   \n",
      "1105    Apple iPad | Air, Mini, 2, 3, 4, Pro | Wi-Fi...            true   \n",
      "\n",
      "      shipping_price            item_condition shipping_computed  \\\n",
      "0                0.0  Manufacturer refurbished              true   \n",
      "1                0.0  Manufacturer refurbished              true   \n",
      "2                0.0  Manufacturer refurbished              true   \n",
      "3                0.0        Seller refurbished              true   \n",
      "4                0.0  Manufacturer refurbished              true   \n",
      "...              ...                       ...               ...   \n",
      "1101             0.0                      Used              true   \n",
      "1102             0.0                       New              true   \n",
      "1103             0.0  Manufacturer refurbished              true   \n",
      "1104             0.0                  Open box              true   \n",
      "1105             0.0        Seller refurbished              true   \n",
      "\n",
      "     sponsored_or_not  \n",
      "0                true  \n",
      "1                true  \n",
      "2                true  \n",
      "3                true  \n",
      "4                true  \n",
      "...               ...  \n",
      "1101            false  \n",
      "1102            false  \n",
      "1103            false  \n",
      "1104            false  \n",
      "1105            false  \n",
      "\n",
      "[1106 rows x 13 columns]\n"
     ]
    }
   ],
   "source": [
    "# Printing the data in ebay_items table\n",
    "\n",
    "mycursor.execute(\"Select * from ebay_items\")\n",
    "result = mycursor.fetchall()\n",
    "result_df = pd.DataFrame(result, columns=['item_id','seller_name','seller_score','item_price','currency','item_sold','best_offer_available','title','returns_allowed','shipping_price','item_condition','shipping_computed','sponsored_or_not'])\n",
    "print(result_df)"
   ]
  },
  {
   "cell_type": "markdown",
   "metadata": {},
   "source": [
    "### f"
   ]
  },
  {
   "cell_type": "markdown",
   "metadata": {},
   "source": [
    "f) Use your code script (and NOT SQL GUI or command terminal) to run summary stats on each item. Print to the screen the mean, min, max, and mean for each column, grouped by \"sponsor/non-sponsor\" and \"condition\" (group by at the same time, not separately). For binary categorical columns, use 0-1 conversion. For e.g., for the \"returns allowed\" convert YES to 1 and NO to 0 and then calculate the stats. If it is NOT a numerical/binary categorical column, print to the screen the count of each category level. You will need to ignore NULL values in your statistic calculations. "
   ]
  },
  {
   "cell_type": "code",
   "execution_count": 29,
   "metadata": {},
   "outputs": [
    {
     "name": "stdout",
     "output_type": "stream",
     "text": [
      "    sponsored                 condition          seller name  count\n",
      "0        true  Manufacturer refurbished            hawk_line      2\n",
      "1        true  Manufacturer refurbished          eazytrade84     44\n",
      "2        true        Seller refurbished          eazytrade84      1\n",
      "3        true  Manufacturer refurbished              buyspry      2\n",
      "4        true  Manufacturer refurbished     amazing-wireless      1\n",
      "..        ...                       ...                  ...    ...\n",
      "504     false  Manufacturer refurbished  palafoxcomputers850      1\n",
      "505     false        Seller refurbished             cars4uma      1\n",
      "506     false                       New         ktcorp2016_3      1\n",
      "507     false                       New          orangecolby      1\n",
      "508     false                  Open box     amazing-wireless      1\n",
      "\n",
      "[509 rows x 4 columns]\n"
     ]
    }
   ],
   "source": [
    "# seller name\n",
    "\n",
    "mycursor.execute(\"select sponsored_or_not, item_condition, seller_name, count(seller_name) as count_seller from ebay_items group by sponsored_or_not, item_condition, seller_name;\")\n",
    "result = mycursor.fetchall()\n",
    "result_df = pd.DataFrame(result, columns=['sponsored', 'condition', 'seller name', 'count'])\n",
    "print(result_df)"
   ]
  },
  {
   "cell_type": "code",
   "execution_count": 30,
   "metadata": {},
   "outputs": [
    {
     "name": "stdout",
     "output_type": "stream",
     "text": [
      "  sponsored                 condition         mean   min      max  \\\n",
      "0      true  Manufacturer refurbished   84642.6800  5297   187012   \n",
      "1      true        Seller refurbished  116352.7000   837   213355   \n",
      "2      true                      Used   72482.2500  5003   213355   \n",
      "3      true                  Open box   30417.0000   308    84729   \n",
      "4      true                       New    2716.0000  2716     2716   \n",
      "5     false        Seller refurbished  154221.9265     3  2265016   \n",
      "6     false                      Used   17844.5879     0   311735   \n",
      "7     false                  Open box   33498.6458     0   213351   \n",
      "8     false  Manufacturer refurbished  129344.5472     0  2265017   \n",
      "9     false                       New    8064.1404     0   187013   \n",
      "\n",
      "             std  \n",
      "0   27674.131011  \n",
      "1   99722.310289  \n",
      "2   84601.896747  \n",
      "3   38479.996682  \n",
      "4       0.000000  \n",
      "5  415645.903408  \n",
      "6   46665.902562  \n",
      "7   54300.001043  \n",
      "8  208990.714522  \n",
      "9   25114.912236  \n"
     ]
    }
   ],
   "source": [
    "# seller score\n",
    "\n",
    "mycursor.execute(\"select sponsored_or_not, item_condition, avg(seller_score) as mean, min(seller_score) as minimun, max(seller_score) as maximum, std(seller_score) as standard_dev from ebay_items group by sponsored_or_not, item_condition;\")\n",
    "result = mycursor.fetchall()\n",
    "result_df = pd.DataFrame(result, columns=['sponsored', 'condition', 'mean', 'min', 'max', 'std'])\n",
    "print(result_df)"
   ]
  },
  {
   "cell_type": "code",
   "execution_count": 31,
   "metadata": {},
   "outputs": [
    {
     "name": "stdout",
     "output_type": "stream",
     "text": [
      "  sponsored                 condition           mean       min       max  \\\n",
      "0      true  Manufacturer refurbished   19473.600000    7985.0   92499.0   \n",
      "1      true        Seller refurbished   19145.000000   11995.0   24500.0   \n",
      "2      true                      Used   13169.875000    5488.0   18985.0   \n",
      "3      true                  Open box   35431.666667   19895.0   64900.0   \n",
      "4      true                       New  129999.000000  129999.0  129999.0   \n",
      "5     false        Seller refurbished   17302.647059    7995.0   99999.0   \n",
      "6     false                      Used   16091.236443    3999.0   99999.0   \n",
      "7     false                  Open box   22303.687500    8995.0   75000.0   \n",
      "8     false  Manufacturer refurbished   21168.685535    5799.0   74299.0   \n",
      "9     false                       New   50902.587719   14999.0  189999.0   \n",
      "\n",
      "            std  \n",
      "0  14307.429632  \n",
      "1   4044.257039  \n",
      "2   4330.008125  \n",
      "3  20847.557944  \n",
      "4      0.000000  \n",
      "5  13272.401990  \n",
      "6  11472.360530  \n",
      "7  12360.618422  \n",
      "8  12635.363492  \n",
      "9  25168.158688  \n"
     ]
    }
   ],
   "source": [
    "# item price\n",
    "\n",
    "mycursor.execute(\"select sponsored_or_not, item_condition, avg(item_price) as mean, min(item_price) as minimun, max(item_price) as maximum, std(item_price) as standard_dev from ebay_items group by sponsored_or_not, item_condition;\")\n",
    "result = mycursor.fetchall()\n",
    "result_df = pd.DataFrame(result, columns=['sponsored', 'condition', 'mean', 'min', 'max', 'std'])\n",
    "print(result_df)"
   ]
  },
  {
   "cell_type": "code",
   "execution_count": 32,
   "metadata": {},
   "outputs": [
    {
     "name": "stdout",
     "output_type": "stream",
     "text": [
      "   sponsored                 condition currency  count\n",
      "0       true  Manufacturer refurbished      US      50\n",
      "1       true        Seller refurbished      US      10\n",
      "2       true                      Used      US       8\n",
      "3       true                  Open box      US       3\n",
      "4       true                       New      US       1\n",
      "5      false        Seller refurbished      US     204\n",
      "6      false                      Used      US     460\n",
      "7      false                  Open box      US      96\n",
      "8      false  Manufacturer refurbished      US     159\n",
      "9      false                      Used       C       1\n",
      "10     false                       New      US     114\n"
     ]
    }
   ],
   "source": [
    "# currency\n",
    "\n",
    "mycursor.execute(\"select sponsored_or_not, item_condition, currency, count(currency) as count_curr from ebay_items group by sponsored_or_not, item_condition, currency;\")\n",
    "result = mycursor.fetchall()\n",
    "result_df = pd.DataFrame(result, columns=['sponsored', 'condition', 'currency', 'count'])\n",
    "print(result_df)"
   ]
  },
  {
   "cell_type": "code",
   "execution_count": 34,
   "metadata": {},
   "outputs": [
    {
     "name": "stdout",
     "output_type": "stream",
     "text": [
      "  sponsored                 condition        mean    min      max          std\n",
      "0      true  Manufacturer refurbished  105.666667    4.0    662.0   134.644336\n",
      "1      true        Seller refurbished  241.250000    3.0    797.0   327.004874\n",
      "2      true                      Used   67.000000    2.0    148.0    56.448206\n",
      "3      true                  Open box  388.000000  388.0    388.0     0.000000\n",
      "4     false        Seller refurbished  127.755319    1.0   2366.0   343.621906\n",
      "5     false                      Used  133.600000    1.0   2076.0   372.031357\n",
      "6     false                  Open box  267.882353    1.0   3294.0   772.741863\n",
      "7     false  Manufacturer refurbished  330.452991    1.0  18670.0  1732.658308\n",
      "8     false                       New    4.138889    1.0     17.0     4.035625\n"
     ]
    }
   ],
   "source": [
    "# item sold\n",
    "\n",
    "mycursor.execute(\"select sponsored_or_not, item_condition, avg(item_sold) as mean, min(item_sold) as minimun, max(item_sold) as maximum, std(item_sold) as standard_dev from ebay_items where item_sold is not null group by sponsored_or_not, item_condition;\")\n",
    "result = mycursor.fetchall()\n",
    "result_df = pd.DataFrame(result, columns=['sponsored', 'condition', 'mean', 'min', 'max', 'std'])\n",
    "print(result_df)"
   ]
  },
  {
   "cell_type": "code",
   "execution_count": 35,
   "metadata": {},
   "outputs": [
    {
     "name": "stdout",
     "output_type": "stream",
     "text": [
      "   sponsored                 condition best offer  count\n",
      "0       true  Manufacturer refurbished      false     50\n",
      "1       true        Seller refurbished      false      9\n",
      "2       true                      Used      false      8\n",
      "3       true        Seller refurbished       true      1\n",
      "4       true                  Open box      false      2\n",
      "5       true                       New      false      1\n",
      "6       true                  Open box       true      1\n",
      "7      false        Seller refurbished      false    193\n",
      "8      false                      Used      false    265\n",
      "9      false                  Open box      false     90\n",
      "10     false  Manufacturer refurbished      false    148\n",
      "11     false                      Used       true    196\n",
      "12     false                       New      false     88\n",
      "13     false                  Open box       true      6\n",
      "14     false                       New       true     26\n",
      "15     false  Manufacturer refurbished       true     11\n",
      "16     false        Seller refurbished       true     11\n"
     ]
    }
   ],
   "source": [
    "# best offer available\n",
    "\n",
    "mycursor.execute(\"select sponsored_or_not, item_condition, best_offer_available, count(*) as count_best_offer from ebay_items group by sponsored_or_not, item_condition, best_offer_available;\")\n",
    "result = mycursor.fetchall()\n",
    "result_df = pd.DataFrame(result, columns=['sponsored', 'condition', 'best offer', 'count'])\n",
    "print(result_df)"
   ]
  },
  {
   "cell_type": "code",
   "execution_count": 36,
   "metadata": {},
   "outputs": [
    {
     "name": "stdout",
     "output_type": "stream",
     "text": [
      "    sponsored                 condition  \\\n",
      "0        true  Manufacturer refurbished   \n",
      "1        true  Manufacturer refurbished   \n",
      "2        true  Manufacturer refurbished   \n",
      "3        true        Seller refurbished   \n",
      "4        true  Manufacturer refurbished   \n",
      "..        ...                       ...   \n",
      "926     false                      Used   \n",
      "927     false                       New   \n",
      "928     false  Manufacturer refurbished   \n",
      "929     false                  Open box   \n",
      "930     false        Seller refurbished   \n",
      "\n",
      "                                                 title  count  \n",
      "0      Apple iPad 4 - 4th Generation 9.7\" with Reti...      1  \n",
      "1      Apple iPad 4 - 4th Generation 9.7\" with Reti...      1  \n",
      "2      Apple iPad mini 2 16GB 32GB 64GB, WiFi + 4G ...      1  \n",
      "3      Apple iPad Mini 4 WiFi + Cellular Unlocked I...      1  \n",
      "4      Apple iPad 4th Gen Retina Display 32GB, Wi-F...      1  \n",
      "..                                                 ...    ...  \n",
      "926    B-Stock - Unlocked Apple iPad Air 2 16GB, Wi...      1  \n",
      "927    Apple iPad mini 4 32GB, Wi-Fi, 7.9in - Gold ...      1  \n",
      "928    Apple iPad Pro 10.5\" 64GB WiFi + 4G LTE - MQ...      1  \n",
      "929    Apple iPad mini 1st Gen 16GB Wi-Fi Cellular ...      1  \n",
      "930    Apple iPad | Air, Mini, 2, 3, 4, Pro | Wi-Fi...      1  \n",
      "\n",
      "[931 rows x 4 columns]\n"
     ]
    }
   ],
   "source": [
    "# title\n",
    "\n",
    "mycursor.execute(\"select sponsored_or_not, item_condition, title, count(*) from ebay_items group by sponsored_or_not,item_condition, title;\")\n",
    "result = mycursor.fetchall()\n",
    "result_df = pd.DataFrame(result, columns=['sponsored', 'condition', 'title', 'count'])\n",
    "print(result_df)"
   ]
  },
  {
   "cell_type": "code",
   "execution_count": 37,
   "metadata": {},
   "outputs": [
    {
     "name": "stdout",
     "output_type": "stream",
     "text": [
      "   sponsored                 condition returns allowed  count\n",
      "0       true  Manufacturer refurbished            true     50\n",
      "1       true        Seller refurbished            true      9\n",
      "2       true                      Used            true      8\n",
      "3       true        Seller refurbished           false      1\n",
      "4       true                  Open box            true      3\n",
      "5       true                       New            true      1\n",
      "6      false        Seller refurbished            true    193\n",
      "7      false                      Used           false    223\n",
      "8      false                      Used            true    238\n",
      "9      false                  Open box            true     82\n",
      "10     false  Manufacturer refurbished            true    147\n",
      "11     false                  Open box           false     14\n",
      "12     false                       New            true     69\n",
      "13     false                       New           false     45\n",
      "14     false  Manufacturer refurbished           false     12\n",
      "15     false        Seller refurbished           false     11\n"
     ]
    }
   ],
   "source": [
    "# returns allowed\n",
    "\n",
    "mycursor.execute(\"select sponsored_or_not, item_condition, returns_allowed, count(*) as count_return from ebay_items group by sponsored_or_not, item_condition, returns_allowed;\")\n",
    "result = mycursor.fetchall()\n",
    "result_df = pd.DataFrame(result, columns=['sponsored', 'condition', 'returns allowed', 'count'])\n",
    "print(result_df)"
   ]
  },
  {
   "cell_type": "code",
   "execution_count": 38,
   "metadata": {},
   "outputs": [
    {
     "name": "stdout",
     "output_type": "stream",
     "text": [
      "  sponsored                 condition        mean  min     max         std\n",
      "0      true  Manufacturer refurbished    0.000000  0.0     0.0    0.000000\n",
      "1      true        Seller refurbished    0.000000  0.0     0.0    0.000000\n",
      "2      true                      Used   61.875000  0.0   495.0  163.705862\n",
      "3      true                  Open box    0.000000  0.0     0.0    0.000000\n",
      "4      true                       New    0.000000  0.0     0.0    0.000000\n",
      "5     false        Seller refurbished   47.238806  0.0  1995.0  261.801476\n",
      "6     false                      Used  320.492401  0.0  4995.0  620.769623\n",
      "7     false                  Open box   63.534091  0.0  1595.0  265.021652\n",
      "8     false  Manufacturer refurbished   43.407895  0.0  4000.0  346.890290\n",
      "9     false                       New  245.842105  0.0  2499.0  596.345296\n"
     ]
    }
   ],
   "source": [
    "# shipping_price\n",
    "\n",
    "mycursor.execute(\"select sponsored_or_not, item_condition, avg(shipping_price) as mean, min(shipping_price) as minimun, max(shipping_price) as maximum, std(shipping_price) as standard_dev from ebay_items where shipping_price is not null group by sponsored_or_not, item_condition;\")\n",
    "result = mycursor.fetchall()\n",
    "result_df = pd.DataFrame(result, columns=['sponsored', 'condition', 'mean', 'min', 'max', 'std'])\n",
    "print(result_df)"
   ]
  },
  {
   "cell_type": "code",
   "execution_count": 39,
   "metadata": {},
   "outputs": [
    {
     "name": "stdout",
     "output_type": "stream",
     "text": [
      "  sponsored                 condition  count\n",
      "0      true  Manufacturer refurbished     50\n",
      "1      true        Seller refurbished     10\n",
      "2      true                      Used      8\n",
      "3      true                  Open box      3\n",
      "4      true                       New      1\n",
      "5     false        Seller refurbished    204\n",
      "6     false                      Used    461\n",
      "7     false                  Open box     96\n",
      "8     false  Manufacturer refurbished    159\n",
      "9     false                       New    114\n"
     ]
    }
   ],
   "source": [
    "# item condition\n",
    "\n",
    "mycursor.execute(\"select sponsored_or_not, item_condition, count(*) from ebay_items group by sponsored_or_not, item_condition;\")\n",
    "result = mycursor.fetchall()\n",
    "result_df = pd.DataFrame(result, columns=['sponsored', 'condition', 'count'])\n",
    "print(result_df)"
   ]
  },
  {
   "cell_type": "code",
   "execution_count": 40,
   "metadata": {},
   "outputs": [
    {
     "name": "stdout",
     "output_type": "stream",
     "text": [
      "   sponsored                 condition shipping_computed  count\n",
      "0       true  Manufacturer refurbished              true     50\n",
      "1       true        Seller refurbished              true     10\n",
      "2       true                      Used              true      8\n",
      "3       true                  Open box              true      3\n",
      "4       true                       New              true      1\n",
      "5      false        Seller refurbished              true    201\n",
      "6      false                      Used              true    329\n",
      "7      false                  Open box              true     88\n",
      "8      false  Manufacturer refurbished              true    152\n",
      "9      false                      Used             false    132\n",
      "10     false                       New              true     95\n",
      "11     false  Manufacturer refurbished             false      7\n",
      "12     false                       New             false     19\n",
      "13     false        Seller refurbished             false      3\n",
      "14     false                  Open box             false      8\n"
     ]
    }
   ],
   "source": [
    "# shipping computed\n",
    "\n",
    "mycursor.execute(\"select sponsored_or_not, item_condition, shipping_computed, count(*) as count from ebay_items group by sponsored_or_not, item_condition, shipping_computed;\")\n",
    "result = mycursor.fetchall()\n",
    "result_df = pd.DataFrame(result, columns=['sponsored', 'condition', 'shipping_computed', 'count'])\n",
    "print(result_df)"
   ]
  },
  {
   "cell_type": "code",
   "execution_count": 41,
   "metadata": {},
   "outputs": [
    {
     "name": "stdout",
     "output_type": "stream",
     "text": [
      "  sponsored  count\n",
      "0      true     72\n",
      "1     false   1034\n"
     ]
    }
   ],
   "source": [
    "# sponsored or not\n",
    "\n",
    "mycursor.execute(\"select sponsored_or_not, count(*) as count from ebay_items group by sponsored_or_not;\")\n",
    "result = mycursor.fetchall()\n",
    "result_df = pd.DataFrame(result, columns=['sponsored', 'count'])\n",
    "print(result_df)"
   ]
  },
  {
   "cell_type": "markdown",
   "metadata": {},
   "source": [
    "### g"
   ]
  },
  {
   "cell_type": "markdown",
   "metadata": {},
   "source": [
    "g) Use the stats in (f) and tell in your own words, how sponsored and non-sponsored items appear to be different. Is there a variable/column that can be used to predict the sponsor/non-sponsor items. (You do NOT need to run any model or statistic calculations for this part. Make your judgment only by looking at the stats you printed in (f))"
   ]
  },
  {
   "cell_type": "code",
   "execution_count": null,
   "metadata": {},
   "outputs": [],
   "source": [
    "# According to the calculation results above, we can see that the sponsored and non-sponsored items are obviously different \n",
    "# in seller score, shipping price and return policy. Sellers of sponsored items usually have higher score and lower shipping \n",
    "# price. And sellers of sponsored items usually allow return.\n",
    "# Thus, we might use these variables to predict the sponsored/non-sponsored items."
   ]
  }
 ],
 "metadata": {
  "kernelspec": {
   "display_name": "Python 3",
   "language": "python",
   "name": "python3"
  },
  "language_info": {
   "codemirror_mode": {
    "name": "ipython",
    "version": 3
   },
   "file_extension": ".py",
   "mimetype": "text/x-python",
   "name": "python",
   "nbconvert_exporter": "python",
   "pygments_lexer": "ipython3",
   "version": "3.7.5"
  }
 },
 "nbformat": 4,
 "nbformat_minor": 2
}
